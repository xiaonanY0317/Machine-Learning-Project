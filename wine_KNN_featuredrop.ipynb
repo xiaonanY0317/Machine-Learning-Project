{
 "cells": [
  {
   "cell_type": "code",
   "execution_count": 9,
   "id": "e246f5a2",
   "metadata": {},
   "outputs": [],
   "source": [
    "import numpy as np\n",
    "from sklearn.model_selection import train_test_split\n",
    "import operator\n",
    "import matplotlib.pyplot as plt\n",
    "import seaborn as sns\n",
    "from matplotlib.colors import ListedColormap\n",
    "from sklearn import neighbors, datasets\n",
    "from sklearn.inspection import DecisionBoundaryDisplay\n",
    "from sklearn.model_selection import GridSearchCV\n",
    "import pandas as pd\n",
    "from imblearn.combine import SMOTETomek\n",
    "from imblearn.under_sampling import TomekLinks\n",
    "from sklearn.neighbors import KNeighborsClassifier\n",
    "import sklearn.metrics as metrics"
   ]
  },
  {
   "cell_type": "code",
   "execution_count": 10,
   "id": "c628381b",
   "metadata": {},
   "outputs": [
    {
     "name": "stdout",
     "output_type": "stream",
     "text": [
      "<class 'pandas.core.frame.DataFrame'>\n",
      "RangeIndex: 1599 entries, 0 to 1598\n",
      "Data columns (total 9 columns):\n",
      " #   Column                Non-Null Count  Dtype  \n",
      "---  ------                --------------  -----  \n",
      " 0   fixed acidity         1599 non-null   float64\n",
      " 1   volatile acidity      1599 non-null   float64\n",
      " 2   citric acid           1599 non-null   float64\n",
      " 3   residual sugar        1599 non-null   float64\n",
      " 4   free sulfur dioxide   1599 non-null   float64\n",
      " 5   total sulfur dioxide  1599 non-null   float64\n",
      " 6   sulphates             1599 non-null   float64\n",
      " 7   alcohol               1599 non-null   float64\n",
      " 8   quality               1599 non-null   int64  \n",
      "dtypes: float64(8), int64(1)\n",
      "memory usage: 112.6 KB\n"
     ]
    }
   ],
   "source": [
    "wine = pd.read_csv(\"/Users/yangxiaonan/Downloads/winequality-red.csv\")\n",
    "wine =wine.drop([\"chlorides\"],axis=1)\n",
    "wine =wine.drop([\"pH\"],axis=1)\n",
    "wine =wine.drop([\"density\"],axis=1)\n",
    "wine.info()"
   ]
  },
  {
   "cell_type": "code",
   "execution_count": 11,
   "id": "50cd8930",
   "metadata": {},
   "outputs": [],
   "source": [
    "X = wine.iloc[:,:8]\n",
    "Y = wine.iloc[:,8]"
   ]
  },
  {
   "cell_type": "code",
   "execution_count": 12,
   "id": "cf41c338",
   "metadata": {},
   "outputs": [],
   "source": [
    "X_train, X_test, Y_train, Y_test = train_test_split(X, Y, test_size=0.3, random_state=500)"
   ]
  },
  {
   "cell_type": "code",
   "execution_count": 13,
   "id": "4f614582",
   "metadata": {},
   "outputs": [],
   "source": [
    "resample=SMOTETomek(tomek=TomekLinks(sampling_strategy='majority'))\n",
    "X_smote, Y_smote = resample.fit_resample(X, Y)"
   ]
  },
  {
   "cell_type": "code",
   "execution_count": 14,
   "id": "8cb678ae",
   "metadata": {},
   "outputs": [],
   "source": [
    "X_smote_train, X_smote_test, Y_smote_train, Y_smote_test = train_test_split(X_smote, Y_smote, test_size=0.3, random_state=5)"
   ]
  },
  {
   "cell_type": "code",
   "execution_count": 15,
   "id": "a45d6c79",
   "metadata": {},
   "outputs": [
    {
     "data": {
      "image/png": "[encoded data removed]",
      "text/plain": [
       "<Figure size 432x288 with 1 Axes>"
      ]
     },
     "metadata": {
      "needs_background": "light"
     },
     "output_type": "display_data"
    },
    {
     "name": "stdout",
     "output_type": "stream",
     "text": [
      "The best K is: {'n_neighbors': 1}\n",
      "The highest accuracy is: 0.7469330529267438\n"
     ]
    }
   ],
   "source": [
    "knn = neighbors.KNeighborsClassifier()\n",
    "param_grid = {'n_neighbors': np.arange(1, 101)}\n",
    "knn_gscv = GridSearchCV(knn, param_grid, cv=3)\n",
    "knn_gscv.fit(X_smote_train, Y_smote_train)\n",
    "knn_gscv.best_params_\n",
    "score = knn_gscv.cv_results_['mean_test_score']\n",
    "K = np.arange(100)\n",
    "plt.title('accuracy curve')\n",
    "plt.plot(K,score , \"-\")\n",
    "plt.xlabel(\"k\")\n",
    "plt.ylabel(\"accuracy\")\n",
    "plt.show()\n",
    "\n",
    "print(\"The best K is:\",knn_gscv.best_params_)\n",
    "print(\"The highest accuracy is:\",knn_gscv.best_score_)"
   ]
  },
  {
   "cell_type": "code",
   "execution_count": 16,
   "id": "bc520fca",
   "metadata": {},
   "outputs": [
    {
     "name": "stdout",
     "output_type": "stream",
     "text": [
      "Accuracy: 0.8875\n"
     ]
    }
   ],
   "source": [
    "knn = KNeighborsClassifier(n_neighbors=1) \n",
    "knn.fit(X_smote_train, Y_smote_train)\n",
    "y_pred = knn.predict(X_test)\n",
    "print(\"Accuracy:\",metrics.accuracy_score(Y_test, y_pred))"
   ]
  },
  {
   "cell_type": "code",
   "execution_count": null,
   "id": "674fbfb9",
   "metadata": {},
   "outputs": [],
   "source": []
  }
 ],
 "metadata": {
  "kernelspec": {
   "display_name": "Python 3 (ipykernel)",
   "language": "python",
   "name": "python3"
  },
  "language_info": {
   "codemirror_mode": {
    "name": "ipython",
    "version": 3
   },
   "file_extension": ".py",
   "mimetype": "text/x-python",
   "name": "python",
   "nbconvert_exporter": "python",
   "pygments_lexer": "ipython3",
   "version": "3.9.12"
  }
 },
 "nbformat": 4,
 "nbformat_minor": 5
}
